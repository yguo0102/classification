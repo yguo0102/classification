{
 "cells": [
  {
   "cell_type": "markdown",
   "id": "2d1ff966",
   "metadata": {},
   "source": [
    "# Install/import related packages"
   ]
  },
  {
   "cell_type": "code",
   "execution_count": 1,
   "id": "0ca88157",
   "metadata": {},
   "outputs": [
    {
     "name": "stdout",
     "output_type": "stream",
     "text": [
      "Defaulting to user installation because normal site-packages is not writeable\n",
      "Requirement already satisfied: simpletransformers in /opt/rh/rh-python36/root/usr/lib/python3.6/site-packages (0.51.3)\n",
      "Requirement already satisfied: sentencepiece in /opt/rh/rh-python36/root/usr/lib64/python3.6/site-packages (from simpletransformers) (0.1.91)\n",
      "Requirement already satisfied: streamlit in /opt/rh/rh-python36/root/usr/lib/python3.6/site-packages (from simpletransformers) (0.66.0)\n",
      "Requirement already satisfied: requests in /opt/rh/rh-python36/root/usr/lib/python3.6/site-packages (from simpletransformers) (2.25.0)\n",
      "Requirement already satisfied: numpy in /opt/rh/rh-python36/root/usr/lib64/python3.6/site-packages (from simpletransformers) (1.17.5)\n",
      "Requirement already satisfied: wandb in /opt/rh/rh-python36/root/usr/lib/python3.6/site-packages (from simpletransformers) (0.9.6)\n",
      "Requirement already satisfied: scikit-learn in /opt/rh/rh-python36/root/usr/lib64/python3.6/site-packages (from simpletransformers) (0.24.1)\n",
      "Requirement already satisfied: regex in /opt/rh/rh-python36/root/usr/lib64/python3.6/site-packages (from simpletransformers) (2018.1.10)\n",
      "Requirement already satisfied: tensorboardx in /opt/rh/rh-python36/root/usr/lib/python3.6/site-packages (from simpletransformers) (2.0)\n",
      "Requirement already satisfied: pandas in /opt/rh/rh-python36/root/usr/lib64/python3.6/site-packages (from simpletransformers) (1.1.4)\n",
      "Requirement already satisfied: tqdm>=4.47.0 in /opt/rh/rh-python36/root/usr/lib/python3.6/site-packages (from simpletransformers) (4.48.2)\n",
      "Requirement already satisfied: scipy in /opt/rh/rh-python36/root/usr/lib64/python3.6/site-packages (from simpletransformers) (1.4.1)\n",
      "Requirement already satisfied: transformers>=4.0.0 in /opt/rh/rh-python36/root/usr/lib/python3.6/site-packages (from simpletransformers) (4.5.1)\n",
      "Requirement already satisfied: tokenizers in /opt/rh/rh-python36/root/usr/lib64/python3.6/site-packages (from simpletransformers) (0.10.2)\n",
      "Requirement already satisfied: seqeval in /opt/rh/rh-python36/root/usr/lib/python3.6/site-packages (from simpletransformers) (0.0.12)\n",
      "Requirement already satisfied: filelock in /opt/rh/rh-python36/root/usr/lib/python3.6/site-packages (from transformers>=4.0.0->simpletransformers) (3.0.12)\n",
      "Requirement already satisfied: dataclasses in /opt/rh/rh-python36/root/usr/lib/python3.6/site-packages (from transformers>=4.0.0->simpletransformers) (0.7)\n",
      "Requirement already satisfied: sacremoses in /opt/rh/rh-python36/root/usr/lib/python3.6/site-packages (from transformers>=4.0.0->simpletransformers) (0.0.38)\n",
      "Requirement already satisfied: packaging in /opt/rh/rh-python36/root/usr/lib/python3.6/site-packages (from transformers>=4.0.0->simpletransformers) (21.0)\n",
      "Requirement already satisfied: importlib-metadata in /opt/rh/rh-python36/root/usr/lib/python3.6/site-packages (from transformers>=4.0.0->simpletransformers) (1.3.0)\n",
      "Requirement already satisfied: zipp>=0.5 in /opt/rh/rh-python36/root/usr/lib/python3.6/site-packages (from importlib-metadata->transformers>=4.0.0->simpletransformers) (3.4.1)\n",
      "Requirement already satisfied: pyparsing>=2.0.2 in /opt/rh/rh-python36/root/usr/lib/python3.6/site-packages (from packaging->transformers>=4.0.0->simpletransformers) (2.2.2)\n",
      "Requirement already satisfied: pytz>=2017.2 in /opt/rh/rh-python36/root/usr/lib/python3.6/site-packages (from pandas->simpletransformers) (2018.7)\n",
      "Requirement already satisfied: python-dateutil>=2.7.3 in /opt/rh/rh-python36/root/usr/lib/python3.6/site-packages (from pandas->simpletransformers) (2.7.3)\n",
      "Requirement already satisfied: six>=1.5 in /opt/rh/rh-python36/root/usr/lib/python3.6/site-packages (from python-dateutil>=2.7.3->pandas->simpletransformers) (1.15.0)\n",
      "Requirement already satisfied: certifi>=2017.4.17 in /opt/rh/rh-python36/root/usr/lib/python3.6/site-packages (from requests->simpletransformers) (2018.1.18)\n",
      "Requirement already satisfied: chardet<4,>=3.0.2 in /opt/rh/rh-python36/root/usr/lib/python3.6/site-packages (from requests->simpletransformers) (3.0.4)\n",
      "Requirement already satisfied: urllib3<1.27,>=1.21.1 in /opt/rh/rh-python36/root/usr/lib/python3.6/site-packages (from requests->simpletransformers) (1.26.2)\n",
      "Requirement already satisfied: idna<3,>=2.5 in /opt/rh/rh-python36/root/usr/lib/python3.6/site-packages (from requests->simpletransformers) (2.10)\n",
      "Requirement already satisfied: click in /opt/rh/rh-python36/root/usr/lib/python3.6/site-packages (from sacremoses->transformers>=4.0.0->simpletransformers) (7.0)\n",
      "Requirement already satisfied: joblib in /opt/rh/rh-python36/root/usr/lib/python3.6/site-packages (from sacremoses->transformers>=4.0.0->simpletransformers) (0.14.1)\n",
      "Requirement already satisfied: threadpoolctl>=2.0.0 in /opt/rh/rh-python36/root/usr/lib/python3.6/site-packages (from scikit-learn->simpletransformers) (2.1.0)\n",
      "Requirement already satisfied: Keras>=2.2.4 in /opt/rh/rh-python36/root/usr/lib/python3.6/site-packages (from seqeval->simpletransformers) (2.2.4)\n",
      "Requirement already satisfied: pyyaml in /opt/rh/rh-python36/root/usr/lib64/python3.6/site-packages (from Keras>=2.2.4->seqeval->simpletransformers) (5.3)\n",
      "Requirement already satisfied: keras-applications>=1.0.6 in /opt/rh/rh-python36/root/usr/lib/python3.6/site-packages (from Keras>=2.2.4->seqeval->simpletransformers) (1.0.8)\n",
      "Requirement already satisfied: keras-preprocessing>=1.0.5 in /opt/rh/rh-python36/root/usr/lib/python3.6/site-packages (from Keras>=2.2.4->seqeval->simpletransformers) (1.1.2)\n",
      "Requirement already satisfied: h5py in /opt/rh/rh-python36/root/usr/lib64/python3.6/site-packages (from Keras>=2.2.4->seqeval->simpletransformers) (2.10.0)\n",
      "Requirement already satisfied: tornado>=5.0 in /opt/rh/rh-python36/root/usr/lib64/python3.6/site-packages (from streamlit->simpletransformers) (6.1)\n",
      "Requirement already satisfied: blinker in /opt/rh/rh-python36/root/usr/lib/python3.6/site-packages (from streamlit->simpletransformers) (1.4)\n",
      "Requirement already satisfied: cachetools>=4.0 in /opt/rh/rh-python36/root/usr/lib/python3.6/site-packages (from streamlit->simpletransformers) (4.1.1)\n",
      "Requirement already satisfied: astor in /opt/rh/rh-python36/root/usr/lib/python3.6/site-packages (from streamlit->simpletransformers) (0.6.2)\n",
      "Requirement already satisfied: pydeck>=0.1.dev5 in /opt/rh/rh-python36/root/usr/lib/python3.6/site-packages (from streamlit->simpletransformers) (0.5.0b1)\n",
      "Requirement already satisfied: protobuf>=3.6.0 in /opt/rh/rh-python36/root/usr/lib64/python3.6/site-packages (from streamlit->simpletransformers) (3.14.0)\n",
      "Requirement already satisfied: tzlocal in /opt/rh/rh-python36/root/usr/lib/python3.6/site-packages (from streamlit->simpletransformers) (2.1)\n",
      "Requirement already satisfied: pillow>=6.2.0 in /opt/rh/rh-python36/root/usr/lib64/python3.6/site-packages (from streamlit->simpletransformers) (7.2.0)\n",
      "Requirement already satisfied: base58 in /opt/rh/rh-python36/root/usr/lib/python3.6/site-packages (from streamlit->simpletransformers) (2.0.1)\n",
      "Requirement already satisfied: altair>=3.2.0 in /opt/rh/rh-python36/root/usr/lib/python3.6/site-packages (from streamlit->simpletransformers) (4.1.0)\n",
      "Requirement already satisfied: toml in /opt/rh/rh-python36/root/usr/lib/python3.6/site-packages (from streamlit->simpletransformers) (0.10.1)\n",
      "Requirement already satisfied: validators in /opt/rh/rh-python36/root/usr/lib/python3.6/site-packages (from streamlit->simpletransformers) (0.18.1)\n",
      "Requirement already satisfied: boto3 in /opt/rh/rh-python36/root/usr/lib/python3.6/site-packages (from streamlit->simpletransformers) (1.16.35)\n",
      "Requirement already satisfied: watchdog in /opt/rh/rh-python36/root/usr/lib/python3.6/site-packages (from streamlit->simpletransformers) (0.10.3)\n",
      "Requirement already satisfied: pyarrow in /opt/rh/rh-python36/root/usr/lib64/python3.6/site-packages (from streamlit->simpletransformers) (0.12.1)\n",
      "Requirement already satisfied: botocore>=1.13.44 in /opt/rh/rh-python36/root/usr/lib/python3.6/site-packages (from streamlit->simpletransformers) (1.19.35)\n",
      "Requirement already satisfied: enum-compat in /opt/rh/rh-python36/root/usr/lib/python3.6/site-packages (from streamlit->simpletransformers) (0.0.3)\n",
      "Requirement already satisfied: toolz in /opt/rh/rh-python36/root/usr/lib/python3.6/site-packages (from altair>=3.2.0->streamlit->simpletransformers) (0.9.0)\n",
      "Requirement already satisfied: jsonschema in /opt/rh/rh-python36/root/usr/lib/python3.6/site-packages (from altair>=3.2.0->streamlit->simpletransformers) (3.2.0)\n",
      "Requirement already satisfied: entrypoints in /opt/rh/rh-python36/root/usr/lib/python3.6/site-packages (from altair>=3.2.0->streamlit->simpletransformers) (0.2.3)\n",
      "Requirement already satisfied: jinja2 in /opt/rh/rh-python36/root/usr/lib/python3.6/site-packages (from altair>=3.2.0->streamlit->simpletransformers) (2.11.1)\n",
      "Requirement already satisfied: jmespath<1.0.0,>=0.7.1 in /opt/rh/rh-python36/root/usr/lib/python3.6/site-packages (from botocore>=1.13.44->streamlit->simpletransformers) (0.9.4)\n"
     ]
    },
    {
     "name": "stdout",
     "output_type": "stream",
     "text": [
      "Requirement already satisfied: traitlets>=4.3.2 in /opt/rh/rh-python36/root/usr/lib/python3.6/site-packages (from pydeck>=0.1.dev5->streamlit->simpletransformers) (4.3.2)\n",
      "Requirement already satisfied: ipywidgets>=7.0.0 in /opt/rh/rh-python36/root/usr/lib/python3.6/site-packages (from pydeck>=0.1.dev5->streamlit->simpletransformers) (7.4.1)\n",
      "Requirement already satisfied: ipykernel>=5.1.2 in /opt/rh/rh-python36/root/usr/lib/python3.6/site-packages (from pydeck>=0.1.dev5->streamlit->simpletransformers) (5.3.4)\n",
      "Requirement already satisfied: ipython>=5.0.0 in /opt/rh/rh-python36/root/usr/lib/python3.6/site-packages (from ipykernel>=5.1.2->pydeck>=0.1.dev5->streamlit->simpletransformers) (6.5.0)\n",
      "Requirement already satisfied: jupyter-client in /opt/rh/rh-python36/root/usr/lib/python3.6/site-packages (from ipykernel>=5.1.2->pydeck>=0.1.dev5->streamlit->simpletransformers) (6.1.12)\n",
      "Requirement already satisfied: pexpect in /opt/rh/rh-python36/root/usr/lib/python3.6/site-packages (from ipython>=5.0.0->ipykernel>=5.1.2->pydeck>=0.1.dev5->streamlit->simpletransformers) (4.6.0)\n",
      "Requirement already satisfied: pygments in /opt/rh/rh-python36/root/usr/lib/python3.6/site-packages (from ipython>=5.0.0->ipykernel>=5.1.2->pydeck>=0.1.dev5->streamlit->simpletransformers) (2.8.1)\n",
      "Requirement already satisfied: jedi>=0.10 in /opt/rh/rh-python36/root/usr/lib/python3.6/site-packages (from ipython>=5.0.0->ipykernel>=5.1.2->pydeck>=0.1.dev5->streamlit->simpletransformers) (0.12.1)\n",
      "Requirement already satisfied: decorator in /opt/rh/rh-python36/root/usr/lib/python3.6/site-packages (from ipython>=5.0.0->ipykernel>=5.1.2->pydeck>=0.1.dev5->streamlit->simpletransformers) (4.3.2)\n",
      "Requirement already satisfied: pickleshare in /opt/rh/rh-python36/root/usr/lib/python3.6/site-packages (from ipython>=5.0.0->ipykernel>=5.1.2->pydeck>=0.1.dev5->streamlit->simpletransformers) (0.7.4)\n",
      "Requirement already satisfied: prompt-toolkit<2.0.0,>=1.0.15 in /opt/rh/rh-python36/root/usr/lib/python3.6/site-packages (from ipython>=5.0.0->ipykernel>=5.1.2->pydeck>=0.1.dev5->streamlit->simpletransformers) (1.0.15)\n",
      "Requirement already satisfied: backcall in /opt/rh/rh-python36/root/usr/lib/python3.6/site-packages (from ipython>=5.0.0->ipykernel>=5.1.2->pydeck>=0.1.dev5->streamlit->simpletransformers) (0.1.0)\n",
      "Requirement already satisfied: setuptools>=18.5 in /opt/rh/rh-python36/root/usr/lib/python3.6/site-packages (from ipython>=5.0.0->ipykernel>=5.1.2->pydeck>=0.1.dev5->streamlit->simpletransformers) (57.4.0)\n",
      "Requirement already satisfied: simplegeneric>0.8 in /opt/rh/rh-python36/root/usr/lib/python3.6/site-packages (from ipython>=5.0.0->ipykernel>=5.1.2->pydeck>=0.1.dev5->streamlit->simpletransformers) (0.8.1)\n",
      "Requirement already satisfied: widgetsnbextension~=3.4.0 in /opt/rh/rh-python36/root/usr/lib/python3.6/site-packages (from ipywidgets>=7.0.0->pydeck>=0.1.dev5->streamlit->simpletransformers) (3.4.1)\n",
      "Requirement already satisfied: nbformat>=4.2.0 in /opt/rh/rh-python36/root/usr/lib/python3.6/site-packages (from ipywidgets>=7.0.0->pydeck>=0.1.dev5->streamlit->simpletransformers) (5.1.3)\n",
      "Requirement already satisfied: parso>=0.3.0 in /opt/rh/rh-python36/root/usr/lib/python3.6/site-packages (from jedi>=0.10->ipython>=5.0.0->ipykernel>=5.1.2->pydeck>=0.1.dev5->streamlit->simpletransformers) (0.3.1)\n",
      "Requirement already satisfied: MarkupSafe>=0.23 in /opt/rh/rh-python36/root/usr/lib64/python3.6/site-packages (from jinja2->altair>=3.2.0->streamlit->simpletransformers) (1.0)\n",
      "Requirement already satisfied: ipython-genutils in /opt/rh/rh-python36/root/usr/lib/python3.6/site-packages (from nbformat>=4.2.0->ipywidgets>=7.0.0->pydeck>=0.1.dev5->streamlit->simpletransformers) (0.2.0)\n",
      "Requirement already satisfied: jupyter-core in /opt/rh/rh-python36/root/usr/lib/python3.6/site-packages (from nbformat>=4.2.0->ipywidgets>=7.0.0->pydeck>=0.1.dev5->streamlit->simpletransformers) (4.7.1)\n",
      "Requirement already satisfied: pyrsistent>=0.14.0 in /opt/rh/rh-python36/root/usr/lib64/python3.6/site-packages (from jsonschema->altair>=3.2.0->streamlit->simpletransformers) (0.18.0)\n",
      "Requirement already satisfied: attrs>=17.4.0 in /opt/rh/rh-python36/root/usr/lib/python3.6/site-packages (from jsonschema->altair>=3.2.0->streamlit->simpletransformers) (19.1.0)\n",
      "Requirement already satisfied: wcwidth in /opt/rh/rh-python36/root/usr/lib/python3.6/site-packages (from prompt-toolkit<2.0.0,>=1.0.15->ipython>=5.0.0->ipykernel>=5.1.2->pydeck>=0.1.dev5->streamlit->simpletransformers) (0.1.7)\n",
      "Requirement already satisfied: notebook>=4.4.1 in /opt/rh/rh-python36/root/usr/lib/python3.6/site-packages (from widgetsnbextension~=3.4.0->ipywidgets>=7.0.0->pydeck>=0.1.dev5->streamlit->simpletransformers) (6.4.6)\n",
      "Requirement already satisfied: nbconvert in /opt/rh/rh-python36/root/usr/lib/python3.6/site-packages (from notebook>=4.4.1->widgetsnbextension~=3.4.0->ipywidgets>=7.0.0->pydeck>=0.1.dev5->streamlit->simpletransformers) (6.0.7)\n",
      "Requirement already satisfied: Send2Trash>=1.8.0 in /opt/rh/rh-python36/root/usr/lib/python3.6/site-packages (from notebook>=4.4.1->widgetsnbextension~=3.4.0->ipywidgets>=7.0.0->pydeck>=0.1.dev5->streamlit->simpletransformers) (1.8.0)\n",
      "Requirement already satisfied: pyzmq>=17 in /opt/rh/rh-python36/root/usr/lib64/python3.6/site-packages (from notebook>=4.4.1->widgetsnbextension~=3.4.0->ipywidgets>=7.0.0->pydeck>=0.1.dev5->streamlit->simpletransformers) (17.1.2)\n",
      "Requirement already satisfied: argon2-cffi in /opt/rh/rh-python36/root/usr/lib64/python3.6/site-packages (from notebook>=4.4.1->widgetsnbextension~=3.4.0->ipywidgets>=7.0.0->pydeck>=0.1.dev5->streamlit->simpletransformers) (21.1.0)\n",
      "Requirement already satisfied: nest-asyncio>=1.5 in /opt/rh/rh-python36/root/usr/lib/python3.6/site-packages (from notebook>=4.4.1->widgetsnbextension~=3.4.0->ipywidgets>=7.0.0->pydeck>=0.1.dev5->streamlit->simpletransformers) (1.5.1)\n",
      "Requirement already satisfied: prometheus-client in /opt/rh/rh-python36/root/usr/lib/python3.6/site-packages (from notebook>=4.4.1->widgetsnbextension~=3.4.0->ipywidgets>=7.0.0->pydeck>=0.1.dev5->streamlit->simpletransformers) (0.3.1)\n",
      "Requirement already satisfied: terminado>=0.8.3 in /opt/rh/rh-python36/root/usr/lib/python3.6/site-packages (from notebook>=4.4.1->widgetsnbextension~=3.4.0->ipywidgets>=7.0.0->pydeck>=0.1.dev5->streamlit->simpletransformers) (0.12.1)\n",
      "Requirement already satisfied: ptyprocess in /opt/rh/rh-python36/root/usr/lib/python3.6/site-packages (from terminado>=0.8.3->notebook>=4.4.1->widgetsnbextension~=3.4.0->ipywidgets>=7.0.0->pydeck>=0.1.dev5->streamlit->simpletransformers) (0.6.0)\n",
      "Requirement already satisfied: cffi>=1.0.0 in /opt/rh/rh-python36/root/usr/lib64/python3.6/site-packages (from argon2-cffi->notebook>=4.4.1->widgetsnbextension~=3.4.0->ipywidgets>=7.0.0->pydeck>=0.1.dev5->streamlit->simpletransformers) (1.11.5)\n",
      "Requirement already satisfied: pycparser in /opt/rh/rh-python36/root/usr/lib/python3.6/site-packages (from cffi>=1.0.0->argon2-cffi->notebook>=4.4.1->widgetsnbextension~=3.4.0->ipywidgets>=7.0.0->pydeck>=0.1.dev5->streamlit->simpletransformers) (2.18)\n",
      "Requirement already satisfied: s3transfer<0.4.0,>=0.3.0 in /opt/rh/rh-python36/root/usr/lib/python3.6/site-packages (from boto3->streamlit->simpletransformers) (0.3.3)\n",
      "Requirement already satisfied: mistune<2,>=0.8.1 in /opt/rh/rh-python36/root/usr/lib/python3.6/site-packages (from nbconvert->notebook>=4.4.1->widgetsnbextension~=3.4.0->ipywidgets>=7.0.0->pydeck>=0.1.dev5->streamlit->simpletransformers) (0.8.3)\n",
      "Requirement already satisfied: jupyterlab-pygments in /opt/rh/rh-python36/root/usr/lib/python3.6/site-packages (from nbconvert->notebook>=4.4.1->widgetsnbextension~=3.4.0->ipywidgets>=7.0.0->pydeck>=0.1.dev5->streamlit->simpletransformers) (0.1.2)\n",
      "Requirement already satisfied: defusedxml in /opt/rh/rh-python36/root/usr/lib/python3.6/site-packages (from nbconvert->notebook>=4.4.1->widgetsnbextension~=3.4.0->ipywidgets>=7.0.0->pydeck>=0.1.dev5->streamlit->simpletransformers) (0.5.0)\n",
      "Requirement already satisfied: nbclient<0.6.0,>=0.5.0 in /opt/rh/rh-python36/root/usr/lib/python3.6/site-packages (from nbconvert->notebook>=4.4.1->widgetsnbextension~=3.4.0->ipywidgets>=7.0.0->pydeck>=0.1.dev5->streamlit->simpletransformers) (0.5.3)\n",
      "Requirement already satisfied: pandocfilters>=1.4.1 in /opt/rh/rh-python36/root/usr/lib/python3.6/site-packages (from nbconvert->notebook>=4.4.1->widgetsnbextension~=3.4.0->ipywidgets>=7.0.0->pydeck>=0.1.dev5->streamlit->simpletransformers) (1.4.2)\n",
      "Requirement already satisfied: testpath in /opt/rh/rh-python36/root/usr/lib/python3.6/site-packages (from nbconvert->notebook>=4.4.1->widgetsnbextension~=3.4.0->ipywidgets>=7.0.0->pydeck>=0.1.dev5->streamlit->simpletransformers) (0.3.1)\n",
      "Requirement already satisfied: bleach in /opt/rh/rh-python36/root/usr/lib/python3.6/site-packages (from nbconvert->notebook>=4.4.1->widgetsnbextension~=3.4.0->ipywidgets>=7.0.0->pydeck>=0.1.dev5->streamlit->simpletransformers) (1.5.0)\n"
     ]
    },
    {
     "name": "stdout",
     "output_type": "stream",
     "text": [
      "Requirement already satisfied: async-generator in /opt/rh/rh-python36/root/usr/lib/python3.6/site-packages (from nbclient<0.6.0,>=0.5.0->nbconvert->notebook>=4.4.1->widgetsnbextension~=3.4.0->ipywidgets>=7.0.0->pydeck>=0.1.dev5->streamlit->simpletransformers) (1.10)\n",
      "Requirement already satisfied: html5lib!=0.9999,!=0.99999,<0.99999999,>=0.999 in /opt/rh/rh-python36/root/usr/lib/python3.6/site-packages (from bleach->nbconvert->notebook>=4.4.1->widgetsnbextension~=3.4.0->ipywidgets>=7.0.0->pydeck>=0.1.dev5->streamlit->simpletransformers) (0.9999999)\n",
      "Requirement already satisfied: configparser>=3.8.1 in /opt/rh/rh-python36/root/usr/lib/python3.6/site-packages (from wandb->simpletransformers) (5.0.0)\n",
      "Requirement already satisfied: docker-pycreds>=0.4.0 in /opt/rh/rh-python36/root/usr/lib/python3.6/site-packages (from wandb->simpletransformers) (0.4.0)\n",
      "Requirement already satisfied: GitPython>=1.0.0 in /opt/rh/rh-python36/root/usr/lib/python3.6/site-packages (from wandb->simpletransformers) (3.1.8)\n",
      "Requirement already satisfied: nvidia-ml-py3>=7.352.0 in /opt/rh/rh-python36/root/usr/lib/python3.6/site-packages (from wandb->simpletransformers) (7.352.0)\n",
      "Requirement already satisfied: sentry-sdk>=0.4.0 in /opt/rh/rh-python36/root/usr/lib/python3.6/site-packages (from wandb->simpletransformers) (0.17.3)\n",
      "Requirement already satisfied: shortuuid>=0.5.0 in /opt/rh/rh-python36/root/usr/lib/python3.6/site-packages (from wandb->simpletransformers) (1.0.1)\n",
      "Requirement already satisfied: subprocess32>=3.5.3 in /opt/rh/rh-python36/root/usr/lib/python3.6/site-packages (from wandb->simpletransformers) (3.5.4)\n",
      "Requirement already satisfied: gql==0.2.0 in /opt/rh/rh-python36/root/usr/lib/python3.6/site-packages (from wandb->simpletransformers) (0.2.0)\n",
      "Requirement already satisfied: psutil>=5.0.0 in /opt/rh/rh-python36/root/usr/lib64/python3.6/site-packages (from wandb->simpletransformers) (5.6.3)\n",
      "Requirement already satisfied: promise<3,>=2.0 in /opt/rh/rh-python36/root/usr/lib/python3.6/site-packages (from gql==0.2.0->wandb->simpletransformers) (2.3)\n",
      "Requirement already satisfied: graphql-core<2,>=0.5.0 in /opt/rh/rh-python36/root/usr/lib/python3.6/site-packages (from gql==0.2.0->wandb->simpletransformers) (1.1)\n",
      "Requirement already satisfied: gitdb<5,>=4.0.1 in /opt/rh/rh-python36/root/usr/lib/python3.6/site-packages (from GitPython>=1.0.0->wandb->simpletransformers) (4.0.5)\n",
      "Requirement already satisfied: smmap<4,>=3.0.1 in /opt/rh/rh-python36/root/usr/lib/python3.6/site-packages (from gitdb<5,>=4.0.1->GitPython>=1.0.0->wandb->simpletransformers) (3.0.4)\n",
      "Requirement already satisfied: pathtools>=0.1.1 in /opt/rh/rh-python36/root/usr/lib/python3.6/site-packages (from watchdog->streamlit->simpletransformers) (0.1.2)\n",
      "\u001b[33mWARNING: You are using pip version 21.2.4; however, version 21.3.1 is available.\n",
      "You should consider upgrading via the '/opt/rh/rh-python36/root/usr/bin/python3 -m pip install --upgrade pip' command.\u001b[0m\n"
     ]
    }
   ],
   "source": [
    "# the code works in Python 3.6.\n",
    "!pip install simpletransformers"
   ]
  },
  {
   "cell_type": "code",
   "execution_count": null,
   "id": "ba819b61",
   "metadata": {},
   "outputs": [],
   "source": [
    "from sklearn.metrics import f1_score, confusion_matrix, classification_report\n",
    "from simpletransformers.classification import ClassificationModel"
   ]
  },
  {
   "cell_type": "markdown",
   "id": "bd016145",
   "metadata": {},
   "source": [
    "# Set the global varibles\n",
    "These varibles are task-specific and are used in the whole process."
   ]
  },
  {
   "cell_type": "code",
   "execution_count": 17,
   "id": "d4de92d6",
   "metadata": {},
   "outputs": [],
   "source": [
    "# Data related\n",
    "data_dir = './data'              # the folder that stores train.csv, dev.csv, and test.csv\n",
    "out_dir = './model'              # where the trained model will be stored\n",
    "pred_out_file = f'{out_dir}/preds.csv'\n",
    "\n",
    "# Task related\n",
    "classes = ['no', 'yes']          # the classes list \n",
    "\n",
    "# Model related\n",
    "sliding_window_flag = 1          # whether the sliding window is used or not\n",
    "max_epoch = 3                    # how many epochs for training\n",
    "learning_rate = 2e-5             # the peak learning rate. usually a small data needs a small learning rate."
   ]
  },
  {
   "cell_type": "markdown",
   "id": "395551fe",
   "metadata": {},
   "source": [
    "# Load the train, dev, and test dataset\n",
    "When loading the datasets, if the labels are not numbers, we need to convert the text labels into numbers.\n",
    "Also, the model output will be numbers rather than text labels."
   ]
  },
  {
   "cell_type": "code",
   "execution_count": 12,
   "id": "562fecbc",
   "metadata": {},
   "outputs": [],
   "source": [
    "import pandas as pd\n",
    "\n",
    "'''\n",
    "Load data from the csv file and convert into the format that the model can read.\n",
    "\n",
    "@params:\n",
    "    dat_file:   the csv file\n",
    "    is_train:   whether the csv file is a training set\n",
    "    sep:        the deliminator for the csv file (default is the comma)\n",
    "    text_name:  the columne name of the text column in the csv file \n",
    "    label_name: the columne name of the label column in the csv file \n",
    "    classes:    the list of all classes\n",
    "    label_map:  whether the label needs to be mapped into a number\n",
    "\n",
    "@return: a DataFrame with the `text` and `labels` column\n",
    "'''\n",
    "def load_data(\n",
    "    dat_file,\n",
    "    is_train=False,\n",
    "    sep=',',\n",
    "    text_name='text',\n",
    "    label_name='label',\n",
    "    classes = [],\n",
    "    label_map = False\n",
    "    ):\n",
    "\n",
    "    df = pd.read_csv(dat_file, usecols=[text_name, label_name], sep=sep)\n",
    "\n",
    "    # if it is a training set, do random shuffling\n",
    "    if is_train:\n",
    "        df = df.sample(frac=1).reset_index(drop=True)\n",
    "\n",
    "    df = df.dropna()\n",
    "    df = df.rename(columns={label_name:'labels'}) # the label name for the model is defaultly set as \"labels\"\n",
    "    print(df.head())\n",
    "\n",
    "    # If the label is text, it needs to be converted into numbers.\n",
    "    # We used the index of the classes list as the new labels. \n",
    "    # For example, if the classes are ['F', 'M'], all 'F' labels are mapped into 0, and the left are mapped into 1.\n",
    "    if label_map:        \n",
    "        df['labels'] = df['labels'].apply(classes.index)\n",
    "\n",
    "        print('after mapping:')\n",
    "        print(df.head())\n",
    "    \n",
    "    print('size:', len(df))    \n",
    "    return df"
   ]
  },
  {
   "cell_type": "code",
   "execution_count": 13,
   "id": "b82d13b4",
   "metadata": {},
   "outputs": [
    {
     "name": "stdout",
     "output_type": "stream",
     "text": [
      "                                                text labels\n",
      "0  @UTDTrey We can all agree  now that arsenal is...     no\n",
      "1  Massages Can Alleviate Headaches \\nWhether you...     no\n",
      "2  NAH HOW AM I SUPPOSED TO LIVE KNOWING THAT HOB...     no\n",
      "3  The way you carry yourself, your personality,c...     no\n",
      "4  My aura is 'Vivid Violet'✨ https://t.co/yCnt1t...    yes\n",
      "after mapping:\n",
      "                                                text  labels\n",
      "0  @UTDTrey We can all agree  now that arsenal is...       0\n",
      "1  Massages Can Alleviate Headaches \\nWhether you...       0\n",
      "2  NAH HOW AM I SUPPOSED TO LIVE KNOWING THAT HOB...       0\n",
      "3  The way you carry yourself, your personality,c...       0\n",
      "4  My aura is 'Vivid Violet'✨ https://t.co/yCnt1t...       1\n",
      "size: 7\n"
     ]
    }
   ],
   "source": [
    "df_train = load_data(f'{data_dir}/train.csv', is_train=True, classes=classes, label_map=True)"
   ]
  },
  {
   "cell_type": "code",
   "execution_count": 14,
   "id": "a8bbdad8",
   "metadata": {},
   "outputs": [
    {
     "name": "stdout",
     "output_type": "stream",
     "text": [
      "                                                text labels\n",
      "0  Exciting, but...\\n...do we need new drugs or d...     no\n",
      "1  Been in and out of sleep for the last 12 hours...    yes\n",
      "2  @yung_gravestone You weren’t supposed to talk ...     no\n",
      "3  As of now these migraines have been kicking my...    yes\n",
      "4  @AG_EM33 When I had migraines they were induce...    yes\n",
      "after mapping:\n",
      "                                                text  labels\n",
      "0  Exciting, but...\\n...do we need new drugs or d...       0\n",
      "1  Been in and out of sleep for the last 12 hours...       1\n",
      "2  @yung_gravestone You weren’t supposed to talk ...       0\n",
      "3  As of now these migraines have been kicking my...       1\n",
      "4  @AG_EM33 When I had migraines they were induce...       1\n",
      "size: 5\n"
     ]
    }
   ],
   "source": [
    "df_val = load_data(f'{data_dir}/dev.csv', is_train=False, classes=classes, label_map=True)"
   ]
  },
  {
   "cell_type": "code",
   "execution_count": 15,
   "id": "cec2b26a",
   "metadata": {},
   "outputs": [
    {
     "name": "stdout",
     "output_type": "stream",
     "text": [
      "                                                text labels\n",
      "0                   @NinjaBotRevived is doodoo, kid.     no\n",
      "1  @AgileCrusade {It was then that Sydney felt Au...     no\n",
      "2     atlas six is giving me migraine. my head hurts    yes\n",
      "3  Apmg I GOYAAT figt for my life TOO GET THESE T...     no\n",
      "4  I love that I can script out my migraines beca...    yes\n",
      "after mapping:\n",
      "                                                text  labels\n",
      "0                   @NinjaBotRevived is doodoo, kid.       0\n",
      "1  @AgileCrusade {It was then that Sydney felt Au...       0\n",
      "2     atlas six is giving me migraine. my head hurts       1\n",
      "3  Apmg I GOYAAT figt for my life TOO GET THESE T...       0\n",
      "4  I love that I can script out my migraines beca...       1\n",
      "size: 6\n"
     ]
    }
   ],
   "source": [
    "df_test = load_data(f'{data_dir}/test.csv', is_train=False, classes=classes, label_map=True)"
   ]
  },
  {
   "cell_type": "markdown",
   "id": "b3a4058d",
   "metadata": {},
   "source": [
    "# Model training"
   ]
  },
  {
   "cell_type": "markdown",
   "id": "4ceb1f5b",
   "metadata": {},
   "source": [
    "## Set up the hyper-parameters"
   ]
  },
  {
   "cell_type": "code",
   "execution_count": 10,
   "id": "26aaaca3",
   "metadata": {},
   "outputs": [],
   "source": [
    "model_args = ClassificationArgs()\n",
    "\n",
    "# model architecture\n",
    "model_args.sliding_window = sliding_window_flag\n",
    "model_args.max_seq_length = 512\n",
    "model_args.train_batch_size = 32\n",
    "model_args.num_train_epochs = max_epoch\n",
    "\n",
    "# input data process\n",
    "model_args.reprocess_input_data = True\n",
    "model_args.overwrite_output_dir = True\n",
    "\n",
    "# save checkpoints\n",
    "model_args.best_model_dir = f'{out_dir}/best_model' # the best model will be stored\n",
    "model_args.evaluate_during_training = True\n",
    "\n",
    "# early stopping config\n",
    "model_args.use_early_stopping = True                 # stop training if the loss does not change for several steps\n",
    "\n",
    "# other\n",
    "model_args.learning_rate = learning_rate"
   ]
  },
  {
   "cell_type": "markdown",
   "id": "ae0165f7",
   "metadata": {},
   "source": [
    "## Create a classification model\n",
    "The class `ClassificationModel` is used to create the model, and the model is initialized from `roberta`."
   ]
  },
  {
   "cell_type": "code",
   "execution_count": 7,
   "id": "e01f80e4",
   "metadata": {
    "scrolled": true
   },
   "outputs": [
    {
     "name": "stderr",
     "output_type": "stream",
     "text": [
      "Some weights of the model checkpoint at roberta-base were not used when initializing RobertaForSequenceClassification: ['lm_head.bias', 'lm_head.dense.weight', 'lm_head.dense.bias', 'lm_head.layer_norm.weight', 'lm_head.layer_norm.bias', 'lm_head.decoder.weight']\n",
      "- This IS expected if you are initializing RobertaForSequenceClassification from the checkpoint of a model trained on another task or with another architecture (e.g. initializing a BertForSequenceClassification model from a BertForPreTraining model).\n",
      "- This IS NOT expected if you are initializing RobertaForSequenceClassification from the checkpoint of a model that you expect to be exactly identical (initializing a BertForSequenceClassification model from a BertForSequenceClassification model).\n",
      "Some weights of RobertaForSequenceClassification were not initialized from the model checkpoint at roberta-base and are newly initialized: ['classifier.dense.weight', 'classifier.dense.bias', 'classifier.out_proj.weight', 'classifier.out_proj.bias']\n",
      "You should probably TRAIN this model on a down-stream task to be able to use it for predictions and inference.\n"
     ]
    }
   ],
   "source": [
    "model = ClassificationModel(\"roberta\", \"roberta-base\", num_labels=len(classes), use_cuda=True, args=model_args) "
   ]
  },
  {
   "cell_type": "markdown",
   "id": "979d9e28",
   "metadata": {},
   "source": [
    "## Start training the model"
   ]
  },
  {
   "cell_type": "code",
   "execution_count": 8,
   "id": "0928b264",
   "metadata": {},
   "outputs": [
    {
     "data": {
      "application/vnd.jupyter.widget-view+json": {
       "model_id": "fcd3c3c29f934ce7a6c4cc595a383c23",
       "version_major": 2,
       "version_minor": 0
      },
      "text/plain": [
       "HBox(children=(FloatProgress(value=0.0, max=3646.0), HTML(value='')))"
      ]
     },
     "metadata": {},
     "output_type": "display_data"
    },
    {
     "name": "stdout",
     "output_type": "stream",
     "text": [
      "\n"
     ]
    },
    {
     "data": {
      "application/vnd.jupyter.widget-view+json": {
       "model_id": "3310c145ee304bc2a42abc320569bda8",
       "version_major": 2,
       "version_minor": 0
      },
      "text/plain": [
       "HBox(children=(FloatProgress(value=0.0, description='Epoch', max=3.0, style=ProgressStyle(description_width='i…"
      ]
     },
     "metadata": {},
     "output_type": "display_data"
    },
    {
     "data": {
      "application/vnd.jupyter.widget-view+json": {
       "model_id": "bf3c7f9ee7014e61bd41cacb71e69530",
       "version_major": 2,
       "version_minor": 0
      },
      "text/plain": [
       "HBox(children=(FloatProgress(value=0.0, description='Running Epoch 0 of 3', max=114.0, style=ProgressStyle(des…"
      ]
     },
     "metadata": {},
     "output_type": "display_data"
    },
    {
     "name": "stdout",
     "output_type": "stream",
     "text": [
      "\n"
     ]
    },
    {
     "data": {
      "application/vnd.jupyter.widget-view+json": {
       "model_id": "e343b6bac16547c1b6d14d2f846b8bf0",
       "version_major": 2,
       "version_minor": 0
      },
      "text/plain": [
       "HBox(children=(FloatProgress(value=0.0, description='Running Epoch 1 of 3', max=114.0, style=ProgressStyle(des…"
      ]
     },
     "metadata": {},
     "output_type": "display_data"
    },
    {
     "name": "stdout",
     "output_type": "stream",
     "text": [
      "\n"
     ]
    },
    {
     "data": {
      "application/vnd.jupyter.widget-view+json": {
       "model_id": "68a16f06996d470f8def6417effbd72e",
       "version_major": 2,
       "version_minor": 0
      },
      "text/plain": [
       "HBox(children=(FloatProgress(value=0.0, description='Running Epoch 2 of 3', max=114.0, style=ProgressStyle(des…"
      ]
     },
     "metadata": {},
     "output_type": "display_data"
    },
    {
     "name": "stdout",
     "output_type": "stream",
     "text": [
      "\n",
      "\n"
     ]
    },
    {
     "data": {
      "text/plain": [
       "(342, 0.22405507641828112)"
      ]
     },
     "execution_count": 8,
     "metadata": {},
     "output_type": "execute_result"
    }
   ],
   "source": [
    "model.train_model(df_train, eval_df=df_val, output_dir=out_dir)"
   ]
  },
  {
   "cell_type": "markdown",
   "id": "57675982",
   "metadata": {},
   "source": [
    "# Model inference/prediction\n",
    "After training, we can make the model predict on the testing set.\n",
    "The output consists of the prediction and the vector of logits. The vecter size is the same as the number of classes.\n",
    "\n",
    "In machine learning, logits are interpreted to be the unnormalised predictions of a model. We apply softmax to it to get a probability distribution over the classes."
   ]
  },
  {
   "cell_type": "code",
   "execution_count": 30,
   "id": "d039cfe6",
   "metadata": {},
   "outputs": [
    {
     "data": {
      "text/plain": [
       "array([[ 2.69726562, -2.95507812],\n",
       "       [-2.03515625,  2.28515625],\n",
       "       [ 2.98828125, -2.98242188],\n",
       "       ...,\n",
       "       [ 2.92773438, -2.89648438],\n",
       "       [ 2.33984375, -2.59570312],\n",
       "       [ 2.86523438, -2.9921875 ]])"
      ]
     },
     "execution_count": 30,
     "metadata": {},
     "output_type": "execute_result"
    }
   ],
   "source": [
    "test_text = df_test['text']\n",
    "predictions, raw_outputs = model.predict(test_text)\n",
    "print('predictions:\\n', predictions)\n",
    "print('logits:\\n', raw_outputs)"
   ]
  },
  {
   "cell_type": "code",
   "execution_count": 63,
   "id": "b5cdfeea",
   "metadata": {},
   "outputs": [],
   "source": [
    "import numpy as np\n",
    "def softmax(x, axis=None):\n",
    "    x = x - x.max(axis=axis, keepdims=True)\n",
    "    y = np.exp(x)\n",
    "    return y / y.sum(axis=axis, keepdims=True)\n",
    "\n",
    "logits=np.asarray(raw_outputs)\n",
    "probas=softmax(logits, axis=1)\n",
    "print('normalized logits:\\n', probas)"
   ]
  },
  {
   "cell_type": "code",
   "execution_count": null,
   "id": "23651277",
   "metadata": {},
   "outputs": [],
   "source": [
    "# store the predictions to a csv file seperated by '\\t'\n",
    "with open(pred_out_file, 'w') as fw:\n",
    "    fw.write('index\\tprediction\\n')\n",
    "    for i, pred in enumerate(predictions):\n",
    "        fw.write(f'{i}\\t{pred}\\n')"
   ]
  },
  {
   "cell_type": "markdown",
   "id": "f1e7b1bd",
   "metadata": {},
   "source": [
    "# Model evaluation"
   ]
  },
  {
   "cell_type": "code",
   "execution_count": 72,
   "id": "499b5148",
   "metadata": {},
   "outputs": [
    {
     "data": {
      "text/plain": [
       "array([[0.99717717, 0.00282283],\n",
       "       [0.99763574, 0.00236426],\n",
       "       [0.01366313, 0.98633687],\n",
       "       ...,\n",
       "       [0.98048745, 0.01951255],\n",
       "       [0.07620119, 0.92379881],\n",
       "       [0.99019718, 0.00980282]])"
      ]
     },
     "execution_count": 72,
     "metadata": {},
     "output_type": "execute_result"
    }
   ],
   "source": [
    "test_labels = df_test['labels'] \n",
    "report = classification_report(test_labels, predictions)\n",
    "print(report)"
   ]
  },
  {
   "cell_type": "markdown",
   "id": "23b03f7d",
   "metadata": {},
   "source": [
    "# Plot the confusion matrix"
   ]
  },
  {
   "cell_type": "code",
   "execution_count": 80,
   "id": "f684fdec",
   "metadata": {},
   "outputs": [
    {
     "name": "stdout",
     "output_type": "stream",
     "text": [
      "              precision    recall  f1-score   support\n",
      "\n",
      "           0       0.97      0.92      0.95       761\n",
      "           1       0.84      0.94      0.88       328\n",
      "\n",
      "    accuracy                           0.93      1089\n",
      "   macro avg       0.90      0.93      0.91      1089\n",
      "weighted avg       0.93      0.93      0.93      1089\n",
      "\n",
      "overall Accuracy: 0.9256198347107438\n"
     ]
    },
    {
     "data": {
      "image/png": "[encoded data removed]",
      "text/plain": [
       "<Figure size 432x288 with 2 Axes>"
      ]
     },
     "metadata": {
      "needs_background": "light"
     },
     "output_type": "display_data"
    },
    {
     "name": "stdout",
     "output_type": "stream",
     "text": [
      "--------------------------\n"
     ]
    }
   ],
   "source": [
    "import scikitplot\n",
    "import matplotlib.pyplot as plt\n",
    "cm = confusion_matrix(test_labels, predictions)\n",
    "scikitplot.metrics.plot_confusion_matrix(test_labels, predictions)\n",
    "plt.show()\n",
    "\n",
    "print('--------------------------')\n"
   ]
  }
 ],
 "metadata": {
  "kernelspec": {
   "display_name": "Python 3 (ipykernel)",
   "language": "python",
   "name": "python3"
  },
  "language_info": {
   "codemirror_mode": {
    "name": "ipython",
    "version": 3
   },
   "file_extension": ".py",
   "mimetype": "text/x-python",
   "name": "python",
   "nbconvert_exporter": "python",
   "pygments_lexer": "ipython3",
   "version": "3.8.5"
  }
 },
 "nbformat": 4,
 "nbformat_minor": 5
}
