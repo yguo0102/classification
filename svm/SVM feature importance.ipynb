{
 "cells": [
  {
   "cell_type": "markdown",
   "id": "e00cf5a9",
   "metadata": {},
   "source": [
    "# Train svm model"
   ]
  },
  {
   "cell_type": "code",
   "execution_count": 3,
   "id": "1e02dd91",
   "metadata": {
    "scrolled": true
   },
   "outputs": [],
   "source": [
    "import sys\n",
    "import pandas as pd\n",
    "import numpy as np\n",
    "import pickle\n",
    "import matplotlib.pyplot as plt\n",
    "\n",
    "# local module\n",
    "import feature_generator\n",
    "\n",
    "# data path\n",
    "data_dir = '/labs/sarkerlab/yguo262/simpletransformers/data/natal_sex/data_splits_1'\n",
    "train_file = f'{data_dir}/train.csv'\n",
    "test_file = f'{data_dir}/test.csv'"
   ]
  },
  {
   "cell_type": "markdown",
   "id": "78f4f622",
   "metadata": {},
   "source": [
    "# Read the feature names from the TF-IDF vectorizer\n",
    "The TF-IDF vectorizer is trained on the training set. It can be seen as a dictionary of which the key is a word/ngram, and the value is a tf-idf score."
   ]
  },
  {
   "cell_type": "code",
   "execution_count": 4,
   "id": "618b5281",
   "metadata": {
    "scrolled": true
   },
   "outputs": [
    {
     "name": "stdout",
     "output_type": "stream",
     "text": [
      "         STUDYID                                               text label  \\\n",
      "0      SC_020493  (kw_male=3, kw_fem=7, 529 days from index date...     F   \n",
      "1      NC_000440  (kw_male=0, kw_fem=1, -449 days from index dat...     F   \n",
      "2      NC_010693  (kw_male=1, kw_fem=2, 791 days from index date...     F   \n",
      "3      NC_003326  (kw_male=2, kw_fem=0, -535 days from index dat...     M   \n",
      "4      SC_020920  (kw_male=1, kw_fem=7, 48 days from index date)...     F   \n",
      "...          ...                                                ...   ...   \n",
      "1225   NC_005645  (kw_male=3, kw_fem=0, 266 days from index date...     M   \n",
      "1226   NC_005984  (kw_male=1, kw_fem=2, 1423 days from index dat...     F   \n",
      "1227   SC_053373  (kw_male=1, kw_fem=8, 759 days from index date...     F   \n",
      "1228  KPNCDCUPT4  (kw_male=0, kw_fem=1, 0 days from index date) ...     M   \n",
      "1229   NC_010841  (kw_male=1, kw_fem=0, -3546 days from index da...     F   \n",
      "\n",
      "     source                                          excerpt_1  \\\n",
      "0      kpsc  (kw_male=0, kw_fem=1, 0 days from index date) ...   \n",
      "1      kpnc  (kw_male=0, kw_fem=1, -449 days from index dat...   \n",
      "2      kpnc  (kw_male=0, kw_fem=1, -315 days from index dat...   \n",
      "3      kpnc  (kw_male=1, kw_fem=0, -535 days from index dat...   \n",
      "4      kpsc  (kw_male=0, kw_fem=2, -7031 days from index da...   \n",
      "...     ...                                                ...   \n",
      "1225   kpnc  (kw_male=0, kw_fem=1, -3762 days from index da...   \n",
      "1226   kpnc  (kw_male=0, kw_fem=1, -1665 days from index da...   \n",
      "1227   kpsc  (kw_male=0, kw_fem=1, -610 days from index dat...   \n",
      "1228   kpnc  (kw_male=0, kw_fem=1, -2052 days from index da...   \n",
      "1229   kpnc  (kw_male=1, kw_fem=0, -3546 days from index da...   \n",
      "\n",
      "                                              excerpt_2  \\\n",
      "0     (kw_male=0, kw_fem=5, 4 days from index date) ...   \n",
      "1     (kw_male=0, kw_fem=1, -449 days from index dat...   \n",
      "2     (kw_male=1, kw_fem=2, 791 days from index date...   \n",
      "3     (kw_male=2, kw_fem=0, -535 days from index dat...   \n",
      "4     (kw_male=1, kw_fem=0, -4734 days from index da...   \n",
      "...                                                 ...   \n",
      "1225  (kw_male=1, kw_fem=0, -3690 days from index da...   \n",
      "1226  (kw_male=0, kw_fem=1, -1665 days from index da...   \n",
      "1227  (kw_male=0, kw_fem=2, -610 days from index dat...   \n",
      "1228  (kw_male=0, kw_fem=1, 0 days from index date) ...   \n",
      "1229  (kw_male=1, kw_fem=0, -3445 days from index da...   \n",
      "\n",
      "                                              excerpt_3 natal_sex  cohort  \n",
      "0     (kw_male=3, kw_fem=7, 529 days from index date...         F   covid  \n",
      "1     (kw_male=1, kw_fem=3, 13 days from index date)...         F   covid  \n",
      "2     (kw_male=2, kw_fem=3, 1622 days from index dat...         F   covid  \n",
      "3     (kw_male=7, kw_fem=0, 371 days from index date...         M   covid  \n",
      "4     (kw_male=1, kw_fem=7, 48 days from index date)...         F   covid  \n",
      "...                                                 ...       ...     ...  \n",
      "1225  (kw_male=3, kw_fem=0, 266 days from index date...         M   covid  \n",
      "1226  (kw_male=1, kw_fem=2, 1423 days from index dat...         F   covid  \n",
      "1227  (kw_male=1, kw_fem=8, 759 days from index date...         F   covid  \n",
      "1228  (kw_male=7, kw_fem=2, 1336 days from index dat...         M  strong  \n",
      "1229  (kw_male=1, kw_fem=5, 1527 days from index dat...         F   covid  \n",
      "\n",
      "[1230 rows x 9 columns]\n"
     ]
    }
   ],
   "source": [
    "# get features\n",
    "train_X, train_classes, test_X, test_classes = \\\n",
    "        feature_generator.fit_transform(train_file, test_file)"
   ]
  },
  {
   "cell_type": "code",
   "execution_count": 6,
   "id": "b102a36f",
   "metadata": {},
   "outputs": [
    {
     "name": "stdout",
     "output_type": "stream",
     "text": [
      "['abd', 'abdomen', 'abdomen soft', 'abdomen soft nontender', 'abdominal', 'abdominal pain', 'able', 'abnormal', 'acne', 'active', 'active ambulatory', 'active ambulatory problems', 'active problem', 'active problem list', 'active yes', 'activity', 'acute', 'additional', 'adenopathy', 'administered', 'administered medications', 'adnexa', 'adult', 'advised', 'affect', 'affirming', 'age', 'age onset', 'ago', 'alcohol', 'aldactone', 'aldactone mg', 'aldactone mg oral', 'aldactone mg oral tab', 'alert', 'allergies', 'alt', 'alt ast', 'alt ast bun', 'alt ast bun cr', 'ambulatory', 'ambulatory problems', 'anesthesia', 'anxiety', 'appearance', 'appearing', 'appears', 'apply', 'appointment', 'appropriate', 'area', 'assessment', 'assessment plan', 'ast', 'ast bun', 'ast bun cr', 'asthma', 'augmentation', 'aware', 'axillary', 'banked', 'banked sperm', 'banking', 'banking sperm', 'basename', 'bd', 'benefit', 'benefits', 'better', 'bid', 'bilateral', 'bilaterally', 'birth', 'birth control', 'bladder', 'bleeding', 'blockers', 'blood', 'bmi', 'bmi kg', 'body', 'body experience', 'body experience secondary', 'body experience secondary sex', 'body mass', 'body mass index', 'body mass index kg', 'bowel', 'bp', 'bp pulse', 'bp pulse temp', 'breast', 'breast augmentation', 'breast cancer', 'breasts', 'breath', 'bun', 'bun cr', 'ca', 'calculated', 'called', 'cancer', 'cancer screening', 'cancers', 'cap', 'capsule', 'cardiovascular', 'care', 'care instructions', 'cause', 'cbc', 'cc', 'cells', 'cervical', 'cervical adenopathy', 'cervical cancer', 'cervix', 'change', 'changes', 'characteristics', 'check', 'chest', 'chest pain', 'chief', 'chief complaint', 'child', 'children', 'chol', 'city', 'city city', 'city city city', 'cl', 'cl tsh', 'cl tsh psa', 'cl tsh psa inr', 'clear', 'clinic', 'cm', 'cm cm', 'colon', 'colon cancer', 'comment', 'complaint', 'complete', 'completed', 'completed mastectomy', 'complications', 'concerns', 'condom', 'confirming', 'confirming surgery', 'consent', 'consider', 'constitutional', 'continue', 'contour', 'control', 'cost', 'cost visit', 'cost visit kp', 'cost visit kp org', 'costestimates', 'costestimates personalized', 'costestimates personalized estimate', 'counseling', 'cr', 'creatinine', 'current', 'current facility', 'current facility administered', 'current facility administered medications', 'current outpatient', 'currently', 'cypionate', 'cypionate depo', 'cyst', 'daily', 'data', 'date', 'date gender', 'date noted', 'date patient', 'day', 'days', 'days index', 'days index date', 'days index date gender', 'days index date patient', 'declines', 'decreased', 'delivery', 'denies', 'depo', 'depo provera', 'depo testosterone', 'depo testosterone mg', 'depo testosterone mg ml', 'depression', 'descended', 'descended bilaterally', 'developed', 'development', 'device', 'diabetes', 'diagnoses', 'diagnosis', 'diagnosis date', 'diagnosis note', 'diarrhea', 'did', 'directed', 'discharge', 'discharge erythema', 'discharge lesions', 'discuss', 'discussed', 'disease', 'disorder', 'disp', 'disp rfl', 'dispense', 'dispense refill', 'distended', 'distention', 'distress', 'dl', 'doctor', 'does', 'doing', 'don', 'dose', 'dr', 'drug', 'dysphoria', 'dysuria', 'ear', 'early', 'edema', 'effect', 'effects', 'egg', 'eggs', 'electrolysis', 'encounter', 'encounter diagnosis', 'encounter diagnosis note', 'encounter office', 'encounter office visit', 'erythema', 'estimate', 'estimated', 'estrace', 'estrace mg', 'estrace mg oral', 'estrace mg oral tab', 'estradiol', 'estradiol estrace', 'estradiol estrace mg', 'estradiol estrace mg oral', 'estradiol mg', 'estrogen', 'exam', 'examination', 'exercise', 'exhibits', 'experience', 'experience secondary', 'experience secondary sex', 'experience secondary sex characteristics', 'external', 'extremities', 'facial', 'facial body', 'facial hair', 'facility', 'facility administered', 'facility administered medications', 'family', 'family history', 'fasting', 'fat', 'father', 'fbs', 'fbs rbs', 'fbs rbs hga', 'feel', 'feel body', 'feel body experience', 'feel body experience secondary', 'feels', 'female', 'female male', 'feminization', 'feminizing', 'fertility', 'fertility issues', 'fertility issues requesting', 'fertility issues requesting procedure', 'fertility preservation', 'fertility yes', 'fever', 'file', 'finasteride', 'findings', 'fluid', 'follow', 'following', 'food', 'free', 'frequency', 'frozen', 'frozen eggs', 'ftm', 'function', 'future', 'gain', 'gastrointestinal', 'gauge', 'gauge misc', 'gender', 'gender affirming', 'gender confirming', 'gender confirming surgery', 'gender dysphoria', 'gender identity', 'general', 'genital', 'genitalia', 'genitourinary', 'getting', 'given', 'glucestavg', 'glucose', 'goal', 'goals', 'good', 'growth', 'gu', 'gyn', 'hair', 'hair removal', 'having', 'hdl', 'head', 'health', 'healthy', 'heart', 'heavy', 'height', 'help', 'hemoglobin', 'hepatosplenomegaly', 'hernia', 'hga', 'hga glucestavg', 'hgb', 'high', 'history', 'history patient', 'history procedure', 'history procedure laterality', 'history procedure laterality date', 'history sexual', 'hiv', 'home', 'hormonal', 'hormone', 'hormone therapy', 'hormones', 'hours', 'hpi', 'hpv', 'hr', 'hrt', 'ht', 'ht wt', 'ht wt kg', 'ht wt kg lb', 'hx', 'hypertension', 'hysterectomy', 'hysterectomy uterus', 'hysterectomy uterus oophorectomy', 'hysterectomy uterus oophorectomy ovaries', 'identity', 'im', 'im oil', 'im oil inject', 'impacts', 'impacts fertility', 'impacts fertility yes', 'include', 'including', 'increase', 'increased', 'index', 'index date', 'index date gender', 'index date patient', 'index kg', 'infection', 'information', 'informed', 'informed consent', 'informed patient', 'inguinal', 'inj', 'inject', 'inject ml', 'injection', 'injections', 'inr', 'inr fbs', 'inr fbs rbs', 'inr fbs rbs hga', 'instructions', 'intact', 'interested', 'irregular', 'issues', 'issues requesting', 'issues requesting procedure', 'issues requesting procedure impacts', 'itching', 'iud', 'just', 'kaiser', 'kg', 'kg lb', 'kg lb oz', 'know', 'know visit', 'know visit cost', 'know visit cost visit', 'known', 'known allergies', 'kp', 'kp org', 'kp org costestimates', 'kp org costestimates personalized', 'kw_fem', 'kw_fem days', 'kw_fem days index', 'kw_fem days index date', 'kw_male', 'kw_male kw_fem', 'kw_male kw_fem days', 'kw_male kw_fem days index', 'lab', 'labiaplasty', 'labs', 'laterality', 'laterality date', 'lb', 'lb oz', 'lb oz kg', 'ldl', 'ldlcalc', 'ldlcalc ldl', 'left', 'legal', 'lesions', 'lesions discharge', 'level', 'levels', 'lh', 'like', 'likely', 'lipid', 'lipid panel', 'list', 'liver', 'living', 'lmp', 'long', 'long term', 'loss', 'low', 'lower', 'lupron', 'lymphadenopathy', 'main', 'make', 'male', 'male female', 'male testes', 'male testes descended', 'mammogram', 'marked', 'marked taking', 'marked taking encounter', 'marked taking encounter office', 'mass', 'mass index', 'mass index kg', 'masses', 'masses tenderness', 'mastectomy', 'mastectomy hysterectomy', 'mastectomy hysterectomy uterus', 'mastectomy hysterectomy uterus oophorectomy', 'maternal', 'mcg', 'md', 'measures', 'measures cm', 'meatus', 'medical', 'medical history', 'medication', 'medication sig', 'medication sig dispense', 'medication sig dispense refill', 'medications', 'meds', 'member', 'men', 'men women', 'menarche', 'menses', 'menstrual', 'menstrual period', 'mental', 'mental health', 'metoidioplasty', 'metoidioplasty phalloplasty', 'metoidioplasty phalloplasty scrotoplasty', 'mg', 'mg daily', 'mg ml', 'mg ml im', 'mg ml im oil', 'mg oral', 'mg oral cap', 'mg oral tab', 'mg oral tab tablet', 'mg oral tab tablets', 'microalb', 'mild', 'mirena', 'misc', 'ml', 'ml im', 'ml im oil', 'ml im oil inject', 'mm', 'mom', 'month', 'monthly', 'months', 'months years', 'mood', 'mother', 'motion', 'motion tenderness', 'mouth', 'mouth daily', 'mouth times', 'mouth times day', 'ms', 'muscle', 'musculoskeletal', 'na', 'na cl', 'na cl tsh', 'na cl tsh psa', 'natal', 'nausea', 'neck', 'neck supple', 'need', 'need know', 'need know visit', 'need know visit cost', 'needed', 'needle', 'needs', 'negative', 'neurological', 'new', 'ng', 'nipple', 'nipple discharge', 'nl', 'non', 'non distended', 'non tender', 'nontender', 'nontender masses', 'normal', 'normal appearing', 'normal male', 'normal male testes', 'normal male testes descended', 'normal size', 'normal size shape', 'normal size shape contour', 'note', 'noted', 'objective', 'office', 'office visit', 'oil', 'oil inject', 'old', 'old female', 'onset', 'oophorectomy', 'oophorectomy ovaries', 'oophorectomy ovaries metoidioplasty', 'oophorectomy ovaries metoidioplasty phalloplasty', 'options', 'oral', 'oral cap', 'oral tab', 'oral tab tablet', 'oral tab tablet mouth', 'oral tab tablet orally', 'oral tab tablets', 'orally', 'orally daily', 'orchiectomy', 'orchiectomy testes', 'orders', 'orders placed', 'orders placed encounter', 'org', 'org costestimates', 'org costestimates personalized', 'org costestimates personalized estimate', 'organomegaly', 'orientation', 'oriented', 'outpatient', 'outpatient medications', 'outpatient prescriptions', 'outpatient prescriptions marked', 'outside', 'ovarian', 'ovarian cancer', 'ovaries', 'ovaries metoidioplasty', 'ovaries metoidioplasty phalloplasty', 'ovaries metoidioplasty phalloplasty scrotoplasty', 'ovary', 'oz', 'oz kg', 'pain', 'panel', 'pap', 'pap smear', 'pap test', 'partner', 'partners', 'past', 'past medical', 'past medical history', 'past surgical', 'past surgical history', 'past surgical history procedure', 'patch', 'patient', 'patient active', 'patient active problem', 'patient active problem list', 'patient aware', 'patient interested', 'patient patient', 'patient presents', 'patient reports', 'patient year', 'patient year old', 'patients', 'pcp', 'pelvic', 'penile', 'penis', 'performed', 'period', 'periods', 'permanent', 'person', 'personalized', 'personalized estimate', 'phalloplasty', 'phalloplasty scrotoplasty', 'physical', 'physical exam', 'physical examination', 'pills', 'place', 'placed', 'placed encounter', 'plan', 'po', 'positive', 'possible', 'post', 'potential', 'pregnancy', 'pregnant', 'prescriptions', 'prescriptions marked', 'present', 'presents', 'preservation', 'prevent', 'previous', 'primary', 'primary encounter', 'primary encounter diagnosis', 'primary encounter diagnosis note', 'prior', 'prior visit', 'problem', 'problem list', 'problems', 'procedure', 'procedure impacts', 'procedure impacts fertility', 'procedure laterality', 'procedure laterality date', 'procedures', 'procedures surgeries', 'procedures surgeries completed', 'progesterone', 'prolactin', 'prostate', 'prostate cancer', 'provera', 'provider', 'provider informed', 'provider informed patient', 'psa', 'psa inr', 'psa inr fbs', 'psa inr fbs rbs', 'psychiatric', 'pt', 'puberty', 'pulse', 'pulse temp', 'questions', 'range', 'rash', 'rate', 'rbs', 'rbs hga', 'recent', 'recommend', 'recommendation', 'recommended', 'reconstruction', 'rectal', 'referral', 'refill', 'regular', 'relation', 'removal', 'removed', 'reported', 'reports', 'reproductive', 'requested', 'requesting', 'requesting procedure', 'requesting procedure impacts', 'requesting procedure impacts fertility', 'respiratory', 'result', 'results', 'results basename', 'review', 'review systems', 'review systems constitutional', 'reviewed', 'rfl', 'rhythm', 'right', 'risk', 'risks', 'romantic', 'romantic history', 'ros', 'routine', 'safety', 'school', 'screening', 'scrotoplasty', 'scrotum', 'secondary', 'secondary sex', 'secondary sex characteristics', 'section', 'seen', 'self', 'sent', 'serum', 'severe', 'sex', 'sex characteristics', 'sexual', 'sexual activity', 'sexual orientation', 'sexual romantic', 'sexual romantic history', 'sexually', 'sexually active', 'sexually active yes', 'shape', 'shape contour', 'shave', 'sig', 'sig dispense', 'sig dispense refill', 'significant', 'size', 'size shape', 'size shape contour', 'skin', 'skin changes', 'small', 'smear', 'smokeless', 'smokeless tobacco', 'smoker', 'smoking', 'smoking status', 'smoking status smoker', 'social', 'social history', 'soft', 'soft nontender', 'sounds', 'sounds normal', 'sperm', 'sperm eggs', 'sperm frozen', 'sperm frozen eggs', 'spironolactone', 'spironolactone aldactone', 'spironolactone aldactone mg', 'spironolactone aldactone mg oral', 'spironolactone mg', 'src', 'stable', 'stage', 'start', 'started', 'starting', 'states', 'status', 'status smoker', 'std', 'stop', 'supple', 'sure', 'surgeon', 'surgeries', 'surgeries completed', 'surgeries completed mastectomy', 'surgery', 'surgical', 'surgical history', 'surgical history procedure', 'surgical history procedure laterality', 'swelling', 'symptoms', 'syringe', 'systems', 'systems constitutional', 'tab', 'tab tablet', 'tab tablet mouth', 'tab tablet mouth daily', 'tab tablet mouth times', 'tab tablet orally', 'tab tablets', 'tablet', 'tablet mouth', 'tablet mouth daily', 'tablet mouth times', 'tablet mouth times day', 'tablet orally', 'tablet orally daily', 'tablets', 'tablets mouth', 'taken', 'taking', 'taking encounter', 'taking encounter office', 'taking encounter office visit', 'td', 'teen', 'temp', 'temp src', 'tender', 'tenderness', 'term', 'test', 'testes', 'testes descended', 'testes descended bilaterally', 'testicles', 'testicular', 'testosterone', 'testosterone cypionate', 'testosterone mg', 'testosterone mg ml', 'testosterone mg ml im', 'testosterone total', 'tests', 'tg', 'tg alt', 'tg alt ast', 'tg alt ast bun', 'therapy', 'think', 'throat', 'thyroid', 'time', 'times', 'times day', 'tissue', 'tobacco', 'today', 'total', 'tracheal', 'transgender', 'transition', 'treatment', 'tsh', 'tsh psa', 'tsh psa inr', 'tsh psa inr fbs', 'twice', 'type', 'types', 'ultrasound', 'urethra', 'urethral', 'urethral meatus', 'urinary', 'urine', 'use', 'used', 'using', 'uterine', 'uterine cancer', 'uterus', 'uterus normal', 'uterus normal size', 'uterus normal size shape', 'uterus oophorectomy', 'uterus oophorectomy ovaries', 'uterus oophorectomy ovaries metoidioplasty', 'vaccine', 'vagina', 'vagina normal', 'vaginal', 'vaginal bleeding', 'vaginal discharge', 'vaginoplasty', 'vaginoplasty labiaplasty', 'value', 'visit', 'visit cost', 'visit cost visit', 'visit cost visit kp', 'visit kp', 'visit kp org', 'visit kp org costestimates', 'visit medication', 'vitals', 'voice', 'vomiting', 'vulva', 'vulva lesions', 'want', 'want children', 'wanting', 'wants', 'week', 'weekly', 'weeks', 'weight', 'woman', 'women', 'work', 'wt', 'wt kg', 'wt kg lb', 'wt lb', 'year', 'year old', 'year old female', 'years', 'yes', 'yes patient', 'yrs']\n"
     ]
    }
   ],
   "source": [
    "# the abs_vectorizer is the TF-IDF vectorizer\n",
    "vectorizer = feature_generator.abs_vectorizer\n",
    "features_names = vectorizer.get_feature_names()\n",
    "print(features_names)"
   ]
  },
  {
   "cell_type": "markdown",
   "id": "399e9272",
   "metadata": {},
   "source": [
    "# Train a svm model\n",
    "If you have a pretrained svm, you can replace this step by loading the svm model."
   ]
  },
  {
   "cell_type": "code",
   "execution_count": 7,
   "id": "37ef1fbb",
   "metadata": {
    "scrolled": true
   },
   "outputs": [
    {
     "data": {
      "text/plain": [
       "SVC(C=4, kernel='linear')"
      ]
     },
     "execution_count": 7,
     "metadata": {},
     "output_type": "execute_result"
    }
   ],
   "source": [
    "from sklearn import svm\n",
    "svm = svm.SVC(C=4, kernel='linear')\n",
    "svm.fit(train_X, train_classes)"
   ]
  },
  {
   "cell_type": "markdown",
   "id": "ecab19ae",
   "metadata": {},
   "source": [
    "# Visualize the feature importance"
   ]
  },
  {
   "cell_type": "code",
   "execution_count": 10,
   "id": "9a069edb",
   "metadata": {},
   "outputs": [
    {
     "data": {
      "image/png": "[encoded data removed]",
      "text/plain": [
       "<Figure size 432x288 with 1 Axes>"
      ]
     },
     "metadata": {
      "needs_background": "light"
     },
     "output_type": "display_data"
    }
   ],
   "source": [
    "from matplotlib import pyplot as plt\n",
    "\n",
    "N = 15  # the number of top ngrams to plot\n",
    "imp = svm.coef_[0] # the feature importance values\n",
    "names = features_names\n",
    "imp, names = zip(*sorted(zip(imp, names), reverse=True)[:N])  # format the data\n",
    "\n",
    "imp = list(imp)\n",
    "names = list(names)\n",
    "imp.reverse()\n",
    "names.reverse()\n",
    "\n",
    "plt.barh(range(len(names)), imp, align='center')\n",
    "plt.yticks(range(len(names)), names)\n",
    "plt.savefig(f'natal_sex_svm_feature_head_{N}.png')\n",
    "plt.show()"
   ]
  }
 ],
 "metadata": {
  "kernelspec": {
   "display_name": "Python 3",
   "language": "python",
   "name": "python3"
  },
  "language_info": {
   "codemirror_mode": {
    "name": "ipython",
    "version": 3
   },
   "file_extension": ".py",
   "mimetype": "text/x-python",
   "name": "python",
   "nbconvert_exporter": "python",
   "pygments_lexer": "ipython3",
   "version": "3.6.12"
  }
 },
 "nbformat": 4,
 "nbformat_minor": 5
}
